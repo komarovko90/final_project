{
 "cells": [
  {
   "cell_type": "markdown",
   "id": "84950543",
   "metadata": {},
   "source": [
    "# Определение траснпортных узлов"
   ]
  },
  {
   "cell_type": "markdown",
   "id": "bec686e1",
   "metadata": {},
   "source": [
    "## Подготовка данных"
   ]
  },
  {
   "cell_type": "code",
   "execution_count": 1,
   "id": "d196d44a",
   "metadata": {},
   "outputs": [],
   "source": [
    "import numpy as np\n",
    "import pandas as pd\n",
    "\n",
    "import matplotlib\n",
    "import matplotlib.pyplot as plt\n",
    "import matplotlib.image as img\n",
    "from scipy.spatial.distance import pdist\n",
    "\n",
    "%matplotlib inline\n",
    "\n",
    "matplotlib.rcParams.update({'font.size': 20})"
   ]
  },
  {
   "cell_type": "markdown",
   "id": "2f829780",
   "metadata": {},
   "source": [
    "# Построение модели классификации по всей МСК"
   ]
  },
  {
   "cell_type": "markdown",
   "id": "4663adc6",
   "metadata": {},
   "source": [
    "**Загрузка данных**"
   ]
  },
  {
   "cell_type": "code",
   "execution_count": 4,
   "id": "7517a06d",
   "metadata": {},
   "outputs": [],
   "source": [
    "from sklearn.ensemble import AdaBoostClassifier\n",
    "from sklearn.model_selection import train_test_split\n",
    "from sklearn.metrics import recall_score, precision_score, roc_auc_score, accuracy_score, f1_score\n",
    "from sklearn.preprocessing import StandardScaler, MinMaxScaler"
   ]
  },
  {
   "cell_type": "code",
   "execution_count": 38,
   "id": "ac7edfec",
   "metadata": {
    "scrolled": true
   },
   "outputs": [
    {
     "name": "stderr",
     "output_type": "stream",
     "text": [
      "b'Skipping line 8657: expected 8 fields, saw 9\\n'\n"
     ]
    },
    {
     "data": {
      "text/html": [
       "<div>\n",
       "<style scoped>\n",
       "    .dataframe tbody tr th:only-of-type {\n",
       "        vertical-align: middle;\n",
       "    }\n",
       "\n",
       "    .dataframe tbody tr th {\n",
       "        vertical-align: top;\n",
       "    }\n",
       "\n",
       "    .dataframe thead th {\n",
       "        text-align: right;\n",
       "    }\n",
       "</style>\n",
       "<table border=\"1\" class=\"dataframe\">\n",
       "  <thead>\n",
       "    <tr style=\"text-align: right;\">\n",
       "      <th></th>\n",
       "      <th>id</th>\n",
       "      <th>name</th>\n",
       "      <th>division_nm</th>\n",
       "      <th>type</th>\n",
       "      <th>latitude</th>\n",
       "      <th>longitude</th>\n",
       "      <th>avg_permit_day</th>\n",
       "      <th>num_near_object</th>\n",
       "    </tr>\n",
       "  </thead>\n",
       "  <tbody>\n",
       "    <tr>\n",
       "      <th>0</th>\n",
       "      <td>1000400</td>\n",
       "      <td>Камчатская ул.</td>\n",
       "      <td>Восточный</td>\n",
       "      <td>tat</td>\n",
       "      <td>55.828272</td>\n",
       "      <td>37.824554</td>\n",
       "      <td>7810.01</td>\n",
       "      <td>40</td>\n",
       "    </tr>\n",
       "    <tr>\n",
       "      <th>1</th>\n",
       "      <td>1000502</td>\n",
       "      <td>Ул. Приорова</td>\n",
       "      <td>Северный</td>\n",
       "      <td>tat</td>\n",
       "      <td>55.820821</td>\n",
       "      <td>37.525614</td>\n",
       "      <td>11964.51</td>\n",
       "      <td>37</td>\n",
       "    </tr>\n",
       "    <tr>\n",
       "      <th>2</th>\n",
       "      <td>1001386</td>\n",
       "      <td>\\Метро \\\"\\\"Китай-город\\\"\\\"\\\"\"</td>\n",
       "      <td>Центральный</td>\n",
       "      <td>tat</td>\n",
       "      <td>55.754188</td>\n",
       "      <td>37.634137</td>\n",
       "      <td>76585.78</td>\n",
       "      <td>71</td>\n",
       "    </tr>\n",
       "    <tr>\n",
       "      <th>3</th>\n",
       "      <td>1002511</td>\n",
       "      <td>Химкинская больница</td>\n",
       "      <td>Северный</td>\n",
       "      <td>tat</td>\n",
       "      <td>55.882864</td>\n",
       "      <td>37.452565</td>\n",
       "      <td>1519.54</td>\n",
       "      <td>14</td>\n",
       "    </tr>\n",
       "    <tr>\n",
       "      <th>4</th>\n",
       "      <td>1002606</td>\n",
       "      <td>Школа Летово</td>\n",
       "      <td>Новомосковский</td>\n",
       "      <td>tat</td>\n",
       "      <td>55.560648</td>\n",
       "      <td>37.420421</td>\n",
       "      <td>108.95</td>\n",
       "      <td>8</td>\n",
       "    </tr>\n",
       "  </tbody>\n",
       "</table>\n",
       "</div>"
      ],
      "text/plain": [
       "        id                           name     division_nm type   latitude  \\\n",
       "0  1000400                 Камчатская ул.       Восточный  tat  55.828272   \n",
       "1  1000502                   Ул. Приорова        Северный  tat  55.820821   \n",
       "2  1001386  \\Метро \\\"\\\"Китай-город\\\"\\\"\\\"\"     Центральный  tat  55.754188   \n",
       "3  1002511            Химкинская больница        Северный  tat  55.882864   \n",
       "4  1002606                   Школа Летово  Новомосковский  tat  55.560648   \n",
       "\n",
       "   longitude  avg_permit_day  num_near_object  \n",
       "0  37.824554         7810.01               40  \n",
       "1  37.525614        11964.51               37  \n",
       "2  37.634137        76585.78               71  \n",
       "3  37.452565         1519.54               14  \n",
       "4  37.420421          108.95                8  "
      ]
     },
     "execution_count": 38,
     "metadata": {},
     "output_type": "execute_result"
    }
   ],
   "source": [
    "df = pd.read_csv('stats/nearest_objects_all_msc.csv', header=0, sep=',', error_bad_lines=False)\n",
    "df.fillna(0, inplace=True)\n",
    "df.head()"
   ]
  },
  {
   "cell_type": "markdown",
   "id": "0a86a11f",
   "metadata": {},
   "source": [
    "#### Ручная разметка транспортных узлов "
   ]
  },
  {
   "cell_type": "code",
   "execution_count": 39,
   "id": "6a72668f",
   "metadata": {},
   "outputs": [],
   "source": [
    "df['is_node'] = 0\n",
    "\n",
    "# узел планерная \n",
    "df.loc[(df['latitude'] < 55.864135) & (df['longitude'] > 37.431944) &\n",
    "       (df['latitude'] > 55.858837) & (df['longitude'] < 37.4381604), 'is_node' ] = 1\n",
    "\n",
    "# узел тушинская \n",
    "df.loc[(df['latitude'] < 55.828734) & (df['longitude'] > 37.435055) &\n",
    "       (df['latitude'] > 55.823351) & (df['longitude'] < 37.440195), 'is_node' ] = 1\n",
    "\n",
    "# узел сходненская\n",
    "df.loc[(df['latitude'] < 55.852601) & (df['longitude'] > 37.435957) &\n",
    "       (df['latitude'] > 55.848749) & (df['longitude'] < 37.443066), 'is_node' ] = 1\n",
    "\n",
    "# узел щукинская\n",
    "df.loc[(df['latitude'] < 55.811426) & (df['longitude'] > 37.458159) &\n",
    "       (df['latitude'] > 55.807198) & (df['longitude'] < 37.467520), 'is_node' ] = 1\n",
    "\n",
    "# узел строгино\n",
    "df.loc[(df['latitude'] < 55.805215) & (df['longitude'] > 37.398673) &\n",
    "       (df['latitude'] > 55.800818) & (df['longitude'] < 37.409324), 'is_node' ] = 1\n",
    "\n",
    "# узел пятницкое\n",
    "df.loc[(df['latitude'] < 55.858373) & (df['longitude'] > 37.352029) &\n",
    "       (df['latitude'] > 55.853828) & (df['longitude'] < 37.356751), 'is_node' ] = 1\n",
    "\n",
    "# узел тат маршала жукова\n",
    "df.loc[(df['latitude'] < 55.780982) & (df['longitude'] > 37.452453) &\n",
    "       (df['latitude'] > 55.778892) & (df['longitude'] < 37.455643), 'is_node' ] = 1\n",
    "\n",
    "# узел волоколамская\n",
    "df.loc[(df['latitude'] < 55.837754) & (df['longitude'] > 37.380501) &\n",
    "       (df['latitude'] > 55.832266) & (df['longitude'] < 37.385652), 'is_node' ] = 1"
   ]
  },
  {
   "cell_type": "code",
   "execution_count": 40,
   "id": "3195d013",
   "metadata": {},
   "outputs": [],
   "source": [
    "# Обработка наименований станций\n",
    "df['name'] = df['name'].apply(lambda x: change_name(x))"
   ]
  },
  {
   "cell_type": "markdown",
   "id": "e14d6217",
   "metadata": {},
   "source": [
    "Обучающая выборка на Северо-Западном округе"
   ]
  },
  {
   "cell_type": "code",
   "execution_count": 56,
   "id": "c84f3450",
   "metadata": {},
   "outputs": [],
   "source": [
    "df_train = df[df['division_nm'] == 'Северо-Западный'].copy()"
   ]
  },
  {
   "cell_type": "code",
   "execution_count": 60,
   "id": "5d640899",
   "metadata": {},
   "outputs": [],
   "source": [
    "df_clf = df_train[['division_nm', 'latitude', 'longitude', 'type', 'avg_permit_day', 'num_near_object', 'is_node']].copy()\n",
    "col = ['avg_permit_day', 'num_near_object', 'is_node']\n",
    "df_clf_std = pd.DataFrame(MinMaxScaler().fit_transform(df_clf[col]), columns=col)"
   ]
  },
  {
   "cell_type": "code",
   "execution_count": 61,
   "id": "45aa2c26",
   "metadata": {},
   "outputs": [
    {
     "data": {
      "text/html": [
       "<div>\n",
       "<style scoped>\n",
       "    .dataframe tbody tr th:only-of-type {\n",
       "        vertical-align: middle;\n",
       "    }\n",
       "\n",
       "    .dataframe tbody tr th {\n",
       "        vertical-align: top;\n",
       "    }\n",
       "\n",
       "    .dataframe thead th {\n",
       "        text-align: right;\n",
       "    }\n",
       "</style>\n",
       "<table border=\"1\" class=\"dataframe\">\n",
       "  <thead>\n",
       "    <tr style=\"text-align: right;\">\n",
       "      <th></th>\n",
       "      <th>avg_permit_day</th>\n",
       "      <th>num_near_object</th>\n",
       "      <th>is_node</th>\n",
       "    </tr>\n",
       "  </thead>\n",
       "  <tbody>\n",
       "    <tr>\n",
       "      <th>0</th>\n",
       "      <td>0.156915</td>\n",
       "      <td>0.36</td>\n",
       "      <td>0.0</td>\n",
       "    </tr>\n",
       "    <tr>\n",
       "      <th>1</th>\n",
       "      <td>0.041842</td>\n",
       "      <td>0.40</td>\n",
       "      <td>0.0</td>\n",
       "    </tr>\n",
       "  </tbody>\n",
       "</table>\n",
       "</div>"
      ],
      "text/plain": [
       "   avg_permit_day  num_near_object  is_node\n",
       "0        0.156915             0.36      0.0\n",
       "1        0.041842             0.40      0.0"
      ]
     },
     "execution_count": 61,
     "metadata": {},
     "output_type": "execute_result"
    }
   ],
   "source": [
    "df_clf_std.head(2)"
   ]
  },
  {
   "cell_type": "code",
   "execution_count": 62,
   "id": "1a5d2d1b",
   "metadata": {},
   "outputs": [
    {
     "name": "stdout",
     "output_type": "stream",
     "text": [
      "Wall time: 101 ms\n"
     ]
    },
    {
     "data": {
      "text/plain": [
       "AdaBoostClassifier()"
      ]
     },
     "execution_count": 62,
     "metadata": {},
     "output_type": "execute_result"
    }
   ],
   "source": [
    "%%time\n",
    "model = AdaBoostClassifier()\n",
    "\n",
    "model.fit(df_clf_std.drop('is_node', axis=1), df_clf_std['is_node'])"
   ]
  },
  {
   "cell_type": "markdown",
   "id": "9695d1cf",
   "metadata": {},
   "source": [
    "Тестовая выборка по всей Мск"
   ]
  },
  {
   "cell_type": "code",
   "execution_count": 66,
   "id": "c31e4171",
   "metadata": {},
   "outputs": [],
   "source": [
    "df_test = df.copy()\n",
    "col = ['avg_permit_day', 'num_near_object', 'is_node']\n",
    "df_test = pd.DataFrame(MinMaxScaler().fit_transform(df_test[col]), columns=col)"
   ]
  },
  {
   "cell_type": "code",
   "execution_count": 67,
   "id": "1d1d4e20",
   "metadata": {},
   "outputs": [],
   "source": [
    "proba = model.predict_proba(df_test.drop('is_node', axis=1))[:, 1:]"
   ]
  },
  {
   "cell_type": "code",
   "execution_count": 69,
   "id": "bd1e00d9",
   "metadata": {},
   "outputs": [
    {
     "data": {
      "text/html": [
       "<div>\n",
       "<style scoped>\n",
       "    .dataframe tbody tr th:only-of-type {\n",
       "        vertical-align: middle;\n",
       "    }\n",
       "\n",
       "    .dataframe tbody tr th {\n",
       "        vertical-align: top;\n",
       "    }\n",
       "\n",
       "    .dataframe thead th {\n",
       "        text-align: right;\n",
       "    }\n",
       "</style>\n",
       "<table border=\"1\" class=\"dataframe\">\n",
       "  <thead>\n",
       "    <tr style=\"text-align: right;\">\n",
       "      <th></th>\n",
       "      <th>id</th>\n",
       "      <th>name</th>\n",
       "      <th>division_nm</th>\n",
       "      <th>type</th>\n",
       "      <th>latitude</th>\n",
       "      <th>longitude</th>\n",
       "      <th>avg_permit_day</th>\n",
       "      <th>num_near_object</th>\n",
       "      <th>is_node</th>\n",
       "      <th>proba</th>\n",
       "    </tr>\n",
       "  </thead>\n",
       "  <tbody>\n",
       "    <tr>\n",
       "      <th>0</th>\n",
       "      <td>1000400</td>\n",
       "      <td>камчатская</td>\n",
       "      <td>Восточный</td>\n",
       "      <td>tat</td>\n",
       "      <td>55.828272</td>\n",
       "      <td>37.824554</td>\n",
       "      <td>7810.01</td>\n",
       "      <td>40</td>\n",
       "      <td>0</td>\n",
       "      <td>0.354865</td>\n",
       "    </tr>\n",
       "    <tr>\n",
       "      <th>1</th>\n",
       "      <td>1000502</td>\n",
       "      <td>приорова</td>\n",
       "      <td>Северный</td>\n",
       "      <td>tat</td>\n",
       "      <td>55.820821</td>\n",
       "      <td>37.525614</td>\n",
       "      <td>11964.51</td>\n",
       "      <td>37</td>\n",
       "      <td>0</td>\n",
       "      <td>0.349218</td>\n",
       "    </tr>\n",
       "  </tbody>\n",
       "</table>\n",
       "</div>"
      ],
      "text/plain": [
       "        id        name division_nm type   latitude  longitude  avg_permit_day  \\\n",
       "0  1000400  камчатская   Восточный  tat  55.828272  37.824554         7810.01   \n",
       "1  1000502    приорова    Северный  tat  55.820821  37.525614        11964.51   \n",
       "\n",
       "   num_near_object  is_node     proba  \n",
       "0               40        0  0.354865  \n",
       "1               37        0  0.349218  "
      ]
     },
     "execution_count": 69,
     "metadata": {},
     "output_type": "execute_result"
    }
   ],
   "source": [
    "df['proba'] = proba\n",
    "df.head(2)"
   ]
  },
  {
   "cell_type": "code",
   "execution_count": 87,
   "id": "a99dbdde",
   "metadata": {},
   "outputs": [],
   "source": [
    "lower_proba = df.loc[df['is_node'] == 1, 'proba'].sort_values()[:1].values[0]\n",
    "lower_proba = df.groupby('is_node')['proba'].median()[1]\n",
    "lower_proba = 0.486"
   ]
  },
  {
   "cell_type": "code",
   "execution_count": 88,
   "id": "bd44f536",
   "metadata": {},
   "outputs": [
    {
     "data": {
      "text/html": [
       "<div>\n",
       "<style scoped>\n",
       "    .dataframe tbody tr th:only-of-type {\n",
       "        vertical-align: middle;\n",
       "    }\n",
       "\n",
       "    .dataframe tbody tr th {\n",
       "        vertical-align: top;\n",
       "    }\n",
       "\n",
       "    .dataframe thead th {\n",
       "        text-align: right;\n",
       "    }\n",
       "</style>\n",
       "<table border=\"1\" class=\"dataframe\">\n",
       "  <thead>\n",
       "    <tr style=\"text-align: right;\">\n",
       "      <th></th>\n",
       "      <th>id</th>\n",
       "      <th>name</th>\n",
       "      <th>division_nm</th>\n",
       "      <th>type</th>\n",
       "      <th>latitude</th>\n",
       "      <th>longitude</th>\n",
       "      <th>avg_permit_day</th>\n",
       "      <th>num_near_object</th>\n",
       "      <th>is_node</th>\n",
       "      <th>proba</th>\n",
       "      <th>proba_node</th>\n",
       "    </tr>\n",
       "  </thead>\n",
       "  <tbody>\n",
       "    <tr>\n",
       "      <th>0</th>\n",
       "      <td>1000400</td>\n",
       "      <td>камчатская</td>\n",
       "      <td>Восточный</td>\n",
       "      <td>tat</td>\n",
       "      <td>55.828272</td>\n",
       "      <td>37.824554</td>\n",
       "      <td>7810.01</td>\n",
       "      <td>40</td>\n",
       "      <td>0</td>\n",
       "      <td>0.354865</td>\n",
       "      <td>0</td>\n",
       "    </tr>\n",
       "    <tr>\n",
       "      <th>1</th>\n",
       "      <td>1000502</td>\n",
       "      <td>приорова</td>\n",
       "      <td>Северный</td>\n",
       "      <td>tat</td>\n",
       "      <td>55.820821</td>\n",
       "      <td>37.525614</td>\n",
       "      <td>11964.51</td>\n",
       "      <td>37</td>\n",
       "      <td>0</td>\n",
       "      <td>0.349218</td>\n",
       "      <td>0</td>\n",
       "    </tr>\n",
       "  </tbody>\n",
       "</table>\n",
       "</div>"
      ],
      "text/plain": [
       "        id        name division_nm type   latitude  longitude  avg_permit_day  \\\n",
       "0  1000400  камчатская   Восточный  tat  55.828272  37.824554         7810.01   \n",
       "1  1000502    приорова    Северный  tat  55.820821  37.525614        11964.51   \n",
       "\n",
       "   num_near_object  is_node     proba  proba_node  \n",
       "0               40        0  0.354865           0  \n",
       "1               37        0  0.349218           0  "
      ]
     },
     "execution_count": 88,
     "metadata": {},
     "output_type": "execute_result"
    }
   ],
   "source": [
    "df['proba_node'] = 0\n",
    "df.loc[df['proba'] > lower_proba, 'proba_node'] = 1\n",
    "df.head(2)"
   ]
  },
  {
   "cell_type": "code",
   "execution_count": 89,
   "id": "703bf5c3",
   "metadata": {},
   "outputs": [],
   "source": [
    "df[['name','latitude','longitude','type','proba_node']].to_csv('CLF_all_msc.csv', header=True, index=False)"
   ]
  },
  {
   "cell_type": "markdown",
   "id": "5c96d78a",
   "metadata": {},
   "source": [
    "## Кластеризация по всей МСК"
   ]
  },
  {
   "cell_type": "code",
   "execution_count": 90,
   "id": "ed86c207",
   "metadata": {},
   "outputs": [],
   "source": [
    "from sklearn.cluster import DBSCAN, AffinityPropagation, AgglomerativeClustering\n",
    "import sklearn.utils"
   ]
  },
  {
   "cell_type": "code",
   "execution_count": 91,
   "id": "158cba50",
   "metadata": {},
   "outputs": [
    {
     "data": {
      "text/html": [
       "<div>\n",
       "<style scoped>\n",
       "    .dataframe tbody tr th:only-of-type {\n",
       "        vertical-align: middle;\n",
       "    }\n",
       "\n",
       "    .dataframe tbody tr th {\n",
       "        vertical-align: top;\n",
       "    }\n",
       "\n",
       "    .dataframe thead th {\n",
       "        text-align: right;\n",
       "    }\n",
       "</style>\n",
       "<table border=\"1\" class=\"dataframe\">\n",
       "  <thead>\n",
       "    <tr style=\"text-align: right;\">\n",
       "      <th></th>\n",
       "      <th>id</th>\n",
       "      <th>name</th>\n",
       "      <th>division_nm</th>\n",
       "      <th>type</th>\n",
       "      <th>latitude</th>\n",
       "      <th>longitude</th>\n",
       "      <th>avg_permit_day</th>\n",
       "      <th>num_near_object</th>\n",
       "      <th>is_node</th>\n",
       "      <th>proba</th>\n",
       "      <th>proba_node</th>\n",
       "    </tr>\n",
       "  </thead>\n",
       "  <tbody>\n",
       "    <tr>\n",
       "      <th>0</th>\n",
       "      <td>1000400</td>\n",
       "      <td>камчатская</td>\n",
       "      <td>Восточный</td>\n",
       "      <td>tat</td>\n",
       "      <td>55.828272</td>\n",
       "      <td>37.824554</td>\n",
       "      <td>7810.01</td>\n",
       "      <td>40</td>\n",
       "      <td>0</td>\n",
       "      <td>0.354865</td>\n",
       "      <td>0</td>\n",
       "    </tr>\n",
       "    <tr>\n",
       "      <th>1</th>\n",
       "      <td>1000502</td>\n",
       "      <td>приорова</td>\n",
       "      <td>Северный</td>\n",
       "      <td>tat</td>\n",
       "      <td>55.820821</td>\n",
       "      <td>37.525614</td>\n",
       "      <td>11964.51</td>\n",
       "      <td>37</td>\n",
       "      <td>0</td>\n",
       "      <td>0.349218</td>\n",
       "      <td>0</td>\n",
       "    </tr>\n",
       "  </tbody>\n",
       "</table>\n",
       "</div>"
      ],
      "text/plain": [
       "        id        name division_nm type   latitude  longitude  avg_permit_day  \\\n",
       "0  1000400  камчатская   Восточный  tat  55.828272  37.824554         7810.01   \n",
       "1  1000502    приорова    Северный  tat  55.820821  37.525614        11964.51   \n",
       "\n",
       "   num_near_object  is_node     proba  proba_node  \n",
       "0               40        0  0.354865           0  \n",
       "1               37        0  0.349218           0  "
      ]
     },
     "execution_count": 91,
     "metadata": {},
     "output_type": "execute_result"
    }
   ],
   "source": [
    "df.head(2)"
   ]
  },
  {
   "cell_type": "code",
   "execution_count": 92,
   "id": "ae86851f",
   "metadata": {
    "scrolled": true
   },
   "outputs": [],
   "source": [
    "df_db = df[['division_nm', 'latitude', 'longitude', 'avg_permit_day', 'num_near_object']].copy()\n",
    "col = ['latitude', 'longitude', 'avg_permit_day', 'num_near_object']\n",
    "df_db_std = pd.DataFrame(MinMaxScaler().fit_transform(df_db[col]), columns=col)\n",
    "# df_db_std = pd.concat([df_clf_std, pd.get_dummies(df_db[['division_nm']])], axis=1)"
   ]
  },
  {
   "cell_type": "code",
   "execution_count": 118,
   "id": "9f1dcabf",
   "metadata": {},
   "outputs": [],
   "source": [
    "# df3_std = StandardScaler().fit_transform(df3_db)\n",
    "db = DBSCAN(eps=0.0394, min_samples=4).fit(df_db_std)"
   ]
  },
  {
   "cell_type": "code",
   "execution_count": 119,
   "id": "2a8e1b07",
   "metadata": {
    "scrolled": true
   },
   "outputs": [
    {
     "data": {
      "text/html": [
       "<div>\n",
       "<style scoped>\n",
       "    .dataframe tbody tr th:only-of-type {\n",
       "        vertical-align: middle;\n",
       "    }\n",
       "\n",
       "    .dataframe tbody tr th {\n",
       "        vertical-align: top;\n",
       "    }\n",
       "\n",
       "    .dataframe thead th {\n",
       "        text-align: right;\n",
       "    }\n",
       "</style>\n",
       "<table border=\"1\" class=\"dataframe\">\n",
       "  <thead>\n",
       "    <tr style=\"text-align: right;\">\n",
       "      <th></th>\n",
       "      <th>id</th>\n",
       "      <th>name</th>\n",
       "      <th>division_nm</th>\n",
       "      <th>type</th>\n",
       "      <th>latitude</th>\n",
       "      <th>longitude</th>\n",
       "      <th>avg_permit_day</th>\n",
       "      <th>num_near_object</th>\n",
       "      <th>is_node</th>\n",
       "      <th>proba</th>\n",
       "      <th>proba_node</th>\n",
       "      <th>label</th>\n",
       "      <th>label_nodes</th>\n",
       "    </tr>\n",
       "  </thead>\n",
       "  <tbody>\n",
       "    <tr>\n",
       "      <th>0</th>\n",
       "      <td>1000400</td>\n",
       "      <td>камчатская</td>\n",
       "      <td>Восточный</td>\n",
       "      <td>tat</td>\n",
       "      <td>55.828272</td>\n",
       "      <td>37.824554</td>\n",
       "      <td>7810.01</td>\n",
       "      <td>40</td>\n",
       "      <td>0</td>\n",
       "      <td>0.354865</td>\n",
       "      <td>0</td>\n",
       "      <td>0</td>\n",
       "      <td>0</td>\n",
       "    </tr>\n",
       "    <tr>\n",
       "      <th>1</th>\n",
       "      <td>1000502</td>\n",
       "      <td>приорова</td>\n",
       "      <td>Северный</td>\n",
       "      <td>tat</td>\n",
       "      <td>55.820821</td>\n",
       "      <td>37.525614</td>\n",
       "      <td>11964.51</td>\n",
       "      <td>37</td>\n",
       "      <td>0</td>\n",
       "      <td>0.349218</td>\n",
       "      <td>0</td>\n",
       "      <td>0</td>\n",
       "      <td>0</td>\n",
       "    </tr>\n",
       "  </tbody>\n",
       "</table>\n",
       "</div>"
      ],
      "text/plain": [
       "        id        name division_nm type   latitude  longitude  avg_permit_day  \\\n",
       "0  1000400  камчатская   Восточный  tat  55.828272  37.824554         7810.01   \n",
       "1  1000502    приорова    Северный  tat  55.820821  37.525614        11964.51   \n",
       "\n",
       "   num_near_object  is_node     proba  proba_node  label  label_nodes  \n",
       "0               40        0  0.354865           0      0            0  \n",
       "1               37        0  0.349218           0      0            0  "
      ]
     },
     "execution_count": 119,
     "metadata": {},
     "output_type": "execute_result"
    }
   ],
   "source": [
    "df['label'] = db.labels_\n",
    "df.head(2)"
   ]
  },
  {
   "cell_type": "code",
   "execution_count": 120,
   "id": "b0a10d0f",
   "metadata": {
    "scrolled": true
   },
   "outputs": [
    {
     "data": {
      "text/plain": [
       "array([ 0,  1,  2,  3,  4, 79,  5,  6,  7, 28,  8, -1,  9, 10, 81, 11, 12,\n",
       "       13, 14, 15, 16, 36, 17, 18, 19, 20, 21, 22, 71, 23, 24, 25, 26, 27,\n",
       "       72, 29, 30, 31, 32, 33, 38, 34, 35, 37, 68, 39, 40, 41, 42, 43, 44,\n",
       "       45, 46, 47, 48, 49, 50, 51, 52, 53, 54, 55, 61, 56, 57, 58, 89, 59,\n",
       "       60, 62, 88, 86, 63, 64, 65, 66, 67, 82, 69, 70, 73, 74, 75, 76, 77,\n",
       "       78, 80, 83, 84, 85, 87], dtype=int64)"
      ]
     },
     "execution_count": 120,
     "metadata": {},
     "output_type": "execute_result"
    }
   ],
   "source": [
    "df['label'].unique()"
   ]
  },
  {
   "cell_type": "code",
   "execution_count": 121,
   "id": "2e88a8c8",
   "metadata": {},
   "outputs": [],
   "source": [
    "df[['name', 'type', 'latitude', 'longitude', 'label']].to_csv('DB_12.csv', header=True, index=False)"
   ]
  },
  {
   "cell_type": "markdown",
   "id": "e59e5f36",
   "metadata": {},
   "source": [
    "Оценка модели"
   ]
  },
  {
   "cell_type": "code",
   "execution_count": 96,
   "id": "1e6bee88",
   "metadata": {},
   "outputs": [
    {
     "data": {
      "text/html": [
       "<div>\n",
       "<style scoped>\n",
       "    .dataframe tbody tr th:only-of-type {\n",
       "        vertical-align: middle;\n",
       "    }\n",
       "\n",
       "    .dataframe tbody tr th {\n",
       "        vertical-align: top;\n",
       "    }\n",
       "\n",
       "    .dataframe thead th {\n",
       "        text-align: right;\n",
       "    }\n",
       "</style>\n",
       "<table border=\"1\" class=\"dataframe\">\n",
       "  <thead>\n",
       "    <tr style=\"text-align: right;\">\n",
       "      <th></th>\n",
       "      <th>id</th>\n",
       "      <th>name</th>\n",
       "      <th>division_nm</th>\n",
       "      <th>type</th>\n",
       "      <th>latitude</th>\n",
       "      <th>longitude</th>\n",
       "      <th>avg_permit_day</th>\n",
       "      <th>num_near_object</th>\n",
       "      <th>is_node</th>\n",
       "      <th>proba</th>\n",
       "      <th>proba_node</th>\n",
       "      <th>label</th>\n",
       "    </tr>\n",
       "  </thead>\n",
       "  <tbody>\n",
       "    <tr>\n",
       "      <th>0</th>\n",
       "      <td>1000400</td>\n",
       "      <td>камчатская</td>\n",
       "      <td>Восточный</td>\n",
       "      <td>tat</td>\n",
       "      <td>55.828272</td>\n",
       "      <td>37.824554</td>\n",
       "      <td>7810.01</td>\n",
       "      <td>40</td>\n",
       "      <td>0</td>\n",
       "      <td>0.354865</td>\n",
       "      <td>0</td>\n",
       "      <td>0</td>\n",
       "    </tr>\n",
       "    <tr>\n",
       "      <th>1</th>\n",
       "      <td>1000502</td>\n",
       "      <td>приорова</td>\n",
       "      <td>Северный</td>\n",
       "      <td>tat</td>\n",
       "      <td>55.820821</td>\n",
       "      <td>37.525614</td>\n",
       "      <td>11964.51</td>\n",
       "      <td>37</td>\n",
       "      <td>0</td>\n",
       "      <td>0.349218</td>\n",
       "      <td>0</td>\n",
       "      <td>0</td>\n",
       "    </tr>\n",
       "  </tbody>\n",
       "</table>\n",
       "</div>"
      ],
      "text/plain": [
       "        id        name division_nm type   latitude  longitude  avg_permit_day  \\\n",
       "0  1000400  камчатская   Восточный  tat  55.828272  37.824554         7810.01   \n",
       "1  1000502    приорова    Северный  tat  55.820821  37.525614        11964.51   \n",
       "\n",
       "   num_near_object  is_node     proba  proba_node  label  \n",
       "0               40        0  0.354865           0      0  \n",
       "1               37        0  0.349218           0      0  "
      ]
     },
     "execution_count": 96,
     "metadata": {},
     "output_type": "execute_result"
    }
   ],
   "source": [
    "df.head(2)"
   ]
  },
  {
   "cell_type": "code",
   "execution_count": 102,
   "id": "1d636cd0",
   "metadata": {},
   "outputs": [],
   "source": [
    "df['label_nodes'] = 0\n",
    "df.loc[df['label'] > 0 , 'label_nodes'] = 1 "
   ]
  },
  {
   "cell_type": "code",
   "execution_count": 103,
   "id": "fe3dcc10",
   "metadata": {},
   "outputs": [
    {
     "name": "stdout",
     "output_type": "stream",
     "text": [
      "recall: 15.48%\n",
      "precision: 16.36%\n"
     ]
    }
   ],
   "source": [
    "rec = recall_score(df['label_nodes'], df['proba_node'], average='binary')\n",
    "print(\"recall: %.2f%%\" % (rec * 100.0)) \n",
    "prc = precision_score(df['label_nodes'], df['proba_node'], average='binary')\n",
    "print(\"precision: %.2f%%\" % (prc * 100.0)) "
   ]
  },
  {
   "cell_type": "code",
   "execution_count": 116,
   "id": "d815897e",
   "metadata": {},
   "outputs": [
    {
     "data": {
      "text/plain": [
       "array([0.035     , 0.03611111, 0.03722222, 0.03833333, 0.03944444,\n",
       "       0.04055556, 0.04166667, 0.04277778, 0.04388889, 0.045     ])"
      ]
     },
     "execution_count": 116,
     "metadata": {},
     "output_type": "execute_result"
    }
   ],
   "source": [
    "np.linspace(0.035, 0.045, 10)"
   ]
  },
  {
   "cell_type": "code",
   "execution_count": 117,
   "id": "d5375d92",
   "metadata": {},
   "outputs": [
    {
     "name": "stdout",
     "output_type": "stream",
     "text": [
      "recall: 19.50%\n",
      "precision: 52.27%\n",
      "eps: 0.0350%\n",
      "******************************\n",
      "recall: 17.66%\n",
      "precision: 40.01%\n",
      "eps: 0.0361%\n",
      "******************************\n",
      "recall: 17.57%\n",
      "precision: 34.67%\n",
      "eps: 0.0372%\n",
      "******************************\n",
      "recall: 19.13%\n",
      "precision: 33.96%\n",
      "eps: 0.0383%\n",
      "******************************\n",
      "recall: 21.13%\n",
      "precision: 31.91%\n",
      "eps: 0.0394%\n",
      "******************************\n",
      "recall: 19.53%\n",
      "precision: 25.32%\n",
      "eps: 0.0406%\n",
      "******************************\n",
      "recall: 15.48%\n",
      "precision: 16.36%\n",
      "eps: 0.0417%\n",
      "******************************\n",
      "recall: 13.26%\n",
      "precision: 11.34%\n",
      "eps: 0.0428%\n",
      "******************************\n",
      "recall: 13.53%\n",
      "precision: 11.34%\n",
      "eps: 0.0439%\n",
      "******************************\n",
      "recall: 16.25%\n",
      "precision: 11.50%\n",
      "eps: 0.0450%\n",
      "******************************\n"
     ]
    }
   ],
   "source": [
    "for eps in np.linspace(0.035, 0.045, 10):\n",
    "    db = DBSCAN(eps=eps, min_samples=4).fit(df_db_std)\n",
    "\n",
    "    df['label'] = db.labels_\n",
    "\n",
    "    df['label_nodes'] = 0\n",
    "    df.loc[df['label'] > 0 , 'label_nodes'] = 1 \n",
    "\n",
    "    rec = recall_score(df['label_nodes'], df['proba_node'], average='binary')\n",
    "    print(\"recall: %.2f%%\" % (rec * 100.0)) \n",
    "    prc = precision_score(df['label_nodes'], df['proba_node'], average='binary')\n",
    "    print(\"precision: %.2f%%\" % (prc * 100.0)) \n",
    "    print(\"eps: %.4f%%\" % (eps)) \n",
    "    print(\"*\"*30)"
   ]
  },
  {
   "cell_type": "code",
   "execution_count": null,
   "id": "44908aa2",
   "metadata": {},
   "outputs": [],
   "source": []
  }
 ],
 "metadata": {
  "kernelspec": {
   "display_name": "Python 3",
   "language": "python",
   "name": "python3"
  },
  "language_info": {
   "codemirror_mode": {
    "name": "ipython",
    "version": 3
   },
   "file_extension": ".py",
   "mimetype": "text/x-python",
   "name": "python",
   "nbconvert_exporter": "python",
   "pygments_lexer": "ipython3",
   "version": "3.8.8"
  }
 },
 "nbformat": 4,
 "nbformat_minor": 5
}
